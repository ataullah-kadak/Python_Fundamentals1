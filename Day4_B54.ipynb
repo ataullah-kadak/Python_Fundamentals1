{
 "cells": [
  {
   "cell_type": "code",
   "execution_count": null,
   "id": "b6bffaaa",
   "metadata": {},
   "outputs": [],
   "source": [
    "Introduction to list datatype method:"
   ]
  },
  {
   "cell_type": "code",
   "execution_count": null,
   "id": "368279dd",
   "metadata": {},
   "outputs": [],
   "source": []
  },
  {
   "cell_type": "code",
   "execution_count": 1,
   "id": "4fbd0943",
   "metadata": {},
   "outputs": [],
   "source": [
    "students = ['suhail','manzar','rehana','naushad','sana']"
   ]
  },
  {
   "cell_type": "code",
   "execution_count": 2,
   "id": "95a21544",
   "metadata": {},
   "outputs": [
    {
     "name": "stdout",
     "output_type": "stream",
     "text": [
      "['suhail', 'manzar', 'rehana', 'naushad', 'sana']\n"
     ]
    }
   ],
   "source": [
    "print(students)"
   ]
  },
  {
   "cell_type": "code",
   "execution_count": null,
   "id": "95f1877d",
   "metadata": {},
   "outputs": [],
   "source": []
  },
  {
   "cell_type": "code",
   "execution_count": null,
   "id": "71b4d48d",
   "metadata": {},
   "outputs": [],
   "source": [
    "#req: want to add falak to the above list."
   ]
  },
  {
   "cell_type": "code",
   "execution_count": 3,
   "id": "39e629b4",
   "metadata": {},
   "outputs": [],
   "source": [
    "students.append('falak')"
   ]
  },
  {
   "cell_type": "code",
   "execution_count": 4,
   "id": "451290da",
   "metadata": {},
   "outputs": [
    {
     "name": "stdout",
     "output_type": "stream",
     "text": [
      "['suhail', 'manzar', 'rehana', 'naushad', 'sana', 'falak']\n"
     ]
    }
   ],
   "source": [
    "print(students)"
   ]
  },
  {
   "cell_type": "code",
   "execution_count": null,
   "id": "10dfdd74",
   "metadata": {},
   "outputs": [],
   "source": []
  },
  {
   "cell_type": "code",
   "execution_count": null,
   "id": "68fcb09c",
   "metadata": {},
   "outputs": [],
   "source": [
    "#req: want to add saba at 5th position to the above list."
   ]
  },
  {
   "cell_type": "code",
   "execution_count": 5,
   "id": "8cf4c3a1",
   "metadata": {},
   "outputs": [],
   "source": [
    "students.insert(5, 'saba')"
   ]
  },
  {
   "cell_type": "code",
   "execution_count": 6,
   "id": "987a3931",
   "metadata": {},
   "outputs": [
    {
     "name": "stdout",
     "output_type": "stream",
     "text": [
      "['suhail', 'manzar', 'rehana', 'naushad', 'sana', 'saba', 'falak']\n"
     ]
    }
   ],
   "source": [
    "print(students)"
   ]
  },
  {
   "cell_type": "code",
   "execution_count": null,
   "id": "ce683986",
   "metadata": {},
   "outputs": [],
   "source": []
  },
  {
   "cell_type": "code",
   "execution_count": 7,
   "id": "ec71785d",
   "metadata": {},
   "outputs": [
    {
     "name": "stdout",
     "output_type": "stream",
     "text": [
      "saba\n"
     ]
    }
   ],
   "source": [
    "print(students[5])"
   ]
  },
  {
   "cell_type": "code",
   "execution_count": null,
   "id": "34ec7da9",
   "metadata": {},
   "outputs": [],
   "source": []
  },
  {
   "cell_type": "code",
   "execution_count": null,
   "id": "02435444",
   "metadata": {},
   "outputs": [],
   "source": [
    "#req: want to modify rehana name with shabana"
   ]
  },
  {
   "cell_type": "code",
   "execution_count": 8,
   "id": "12e40563",
   "metadata": {},
   "outputs": [],
   "source": [
    "students[2] = 'shabana'"
   ]
  },
  {
   "cell_type": "code",
   "execution_count": 10,
   "id": "2bc82eed",
   "metadata": {},
   "outputs": [
    {
     "name": "stdout",
     "output_type": "stream",
     "text": [
      "['suhail', 'manzar', 'shabana', 'naushad', 'sana', 'saba', 'falak']\n"
     ]
    }
   ],
   "source": [
    "print(students)"
   ]
  },
  {
   "cell_type": "code",
   "execution_count": null,
   "id": "1f2b473e",
   "metadata": {},
   "outputs": [],
   "source": []
  },
  {
   "cell_type": "code",
   "execution_count": null,
   "id": "0beb5f71",
   "metadata": {},
   "outputs": [],
   "source": [
    "#req: want to delete manzar from the above list."
   ]
  },
  {
   "cell_type": "code",
   "execution_count": 11,
   "id": "5d57acdc",
   "metadata": {},
   "outputs": [],
   "source": [
    "del students[1]"
   ]
  },
  {
   "cell_type": "code",
   "execution_count": 12,
   "id": "20c8b4e7",
   "metadata": {},
   "outputs": [
    {
     "name": "stdout",
     "output_type": "stream",
     "text": [
      "['suhail', 'shabana', 'naushad', 'sana', 'saba', 'falak']\n"
     ]
    }
   ],
   "source": [
    "print(students)"
   ]
  },
  {
   "cell_type": "code",
   "execution_count": null,
   "id": "779c7832",
   "metadata": {},
   "outputs": [],
   "source": []
  }
 ],
 "metadata": {
  "kernelspec": {
   "display_name": "Python 3",
   "language": "python",
   "name": "python3"
  },
  "language_info": {
   "codemirror_mode": {
    "name": "ipython",
    "version": 3
   },
   "file_extension": ".py",
   "mimetype": "text/x-python",
   "name": "python",
   "nbconvert_exporter": "python",
   "pygments_lexer": "ipython3",
   "version": "3.8.8"
  }
 },
 "nbformat": 4,
 "nbformat_minor": 5
}

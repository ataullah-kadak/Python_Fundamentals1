{
 "cells": [
  {
   "cell_type": "code",
   "execution_count": null,
   "id": "25c10a36",
   "metadata": {},
   "outputs": [],
   "source": [
    "Introduction to string method:"
   ]
  },
  {
   "cell_type": "code",
   "execution_count": 1,
   "id": "7f0ea440",
   "metadata": {},
   "outputs": [
    {
     "name": "stdout",
     "output_type": "stream",
     "text": [
      "ataullah kadak\n"
     ]
    }
   ],
   "source": [
    "full_name = 'ataullah kadak'\n",
    "\n",
    "print(full_name)"
   ]
  },
  {
   "cell_type": "code",
   "execution_count": null,
   "id": "049776d7",
   "metadata": {},
   "outputs": [],
   "source": []
  },
  {
   "cell_type": "code",
   "execution_count": 2,
   "id": "191ca2f4",
   "metadata": {},
   "outputs": [
    {
     "data": {
      "text/plain": [
       "str"
      ]
     },
     "execution_count": 2,
     "metadata": {},
     "output_type": "execute_result"
    }
   ],
   "source": [
    "type(full_name)"
   ]
  },
  {
   "cell_type": "code",
   "execution_count": null,
   "id": "2ee8f6f2",
   "metadata": {},
   "outputs": [],
   "source": []
  },
  {
   "cell_type": "code",
   "execution_count": null,
   "id": "920d9477",
   "metadata": {},
   "outputs": [],
   "source": [
    "#req: first letter of first and last name should be capital."
   ]
  },
  {
   "cell_type": "code",
   "execution_count": 3,
   "id": "3e750a46",
   "metadata": {},
   "outputs": [
    {
     "name": "stdout",
     "output_type": "stream",
     "text": [
      "Ataullah Kadak\n"
     ]
    }
   ],
   "source": [
    "print(full_name.title())"
   ]
  },
  {
   "cell_type": "code",
   "execution_count": null,
   "id": "85a56bd8",
   "metadata": {},
   "outputs": [],
   "source": []
  },
  {
   "cell_type": "code",
   "execution_count": null,
   "id": "160185d6",
   "metadata": {},
   "outputs": [],
   "source": [
    "#req: want to print entire name in capital letters."
   ]
  },
  {
   "cell_type": "code",
   "execution_count": 4,
   "id": "a770ec44",
   "metadata": {},
   "outputs": [
    {
     "name": "stdout",
     "output_type": "stream",
     "text": [
      "ATAULLAH KADAK\n"
     ]
    }
   ],
   "source": [
    "print(full_name.upper())"
   ]
  },
  {
   "cell_type": "code",
   "execution_count": null,
   "id": "5068ebee",
   "metadata": {},
   "outputs": [],
   "source": []
  },
  {
   "cell_type": "code",
   "execution_count": null,
   "id": "710568f9",
   "metadata": {},
   "outputs": [],
   "source": [
    "#req: want to print entire name in small letters."
   ]
  },
  {
   "cell_type": "code",
   "execution_count": 5,
   "id": "d90b4da0",
   "metadata": {},
   "outputs": [
    {
     "name": "stdout",
     "output_type": "stream",
     "text": [
      "ataullah kadak\n"
     ]
    }
   ],
   "source": [
    "print(full_name.lower())"
   ]
  },
  {
   "cell_type": "code",
   "execution_count": null,
   "id": "538c4ab2",
   "metadata": {},
   "outputs": [],
   "source": []
  },
  {
   "cell_type": "code",
   "execution_count": null,
   "id": "02635fad",
   "metadata": {},
   "outputs": [],
   "source": [
    "Introduction to f strings:"
   ]
  },
  {
   "cell_type": "code",
   "execution_count": 7,
   "id": "2c1badbd",
   "metadata": {},
   "outputs": [],
   "source": [
    "first_name = 'saba'\n",
    "last_name = 'gulnar'"
   ]
  },
  {
   "cell_type": "code",
   "execution_count": null,
   "id": "4a22127b",
   "metadata": {},
   "outputs": [],
   "source": [
    "General syntax of f strings:\n",
    "\n",
    "f\"custom word {placeholder1} {placeholder2} {placeholder3}.....{placeholder n}\""
   ]
  },
  {
   "cell_type": "code",
   "execution_count": null,
   "id": "4519aa1a",
   "metadata": {},
   "outputs": [],
   "source": []
  },
  {
   "cell_type": "code",
   "execution_count": null,
   "id": "78ee02f8",
   "metadata": {},
   "outputs": [],
   "source": [
    "#req: Want to get the full name."
   ]
  },
  {
   "cell_type": "code",
   "execution_count": 8,
   "id": "4b3a102c",
   "metadata": {},
   "outputs": [
    {
     "name": "stdout",
     "output_type": "stream",
     "text": [
      "saba gulnar\n"
     ]
    }
   ],
   "source": [
    "full_name = f\"{first_name} {last_name}\"\n",
    "\n",
    "print(full_name)"
   ]
  },
  {
   "cell_type": "code",
   "execution_count": 9,
   "id": "2516193c",
   "metadata": {},
   "outputs": [
    {
     "name": "stdout",
     "output_type": "stream",
     "text": [
      "Saba Gulnar\n"
     ]
    }
   ],
   "source": [
    "print(full_name.title())"
   ]
  },
  {
   "cell_type": "code",
   "execution_count": null,
   "id": "ae23bb6d",
   "metadata": {},
   "outputs": [],
   "source": []
  },
  {
   "cell_type": "code",
   "execution_count": null,
   "id": "8cd6a446",
   "metadata": {},
   "outputs": [],
   "source": [
    "Adding whitespaces to the stings:"
   ]
  },
  {
   "cell_type": "code",
   "execution_count": 10,
   "id": "29f23526",
   "metadata": {},
   "outputs": [
    {
     "name": "stdout",
     "output_type": "stream",
     "text": [
      "fav_prog_language: Pythonjavacc++cobalpascal\n"
     ]
    }
   ],
   "source": [
    "print(\"fav_prog_language: Pythonjavacc++cobalpascal\")"
   ]
  },
  {
   "cell_type": "code",
   "execution_count": null,
   "id": "d5b92ec7",
   "metadata": {},
   "outputs": [],
   "source": []
  },
  {
   "cell_type": "code",
   "execution_count": 12,
   "id": "72791565",
   "metadata": {},
   "outputs": [
    {
     "name": "stdout",
     "output_type": "stream",
     "text": [
      "fav_prog_language:\n",
      "Python\n",
      "java\n",
      "c\n",
      "c++\n",
      "cobal\n",
      "pascal\n"
     ]
    }
   ],
   "source": [
    "print(\"fav_prog_language:\\nPython\\njava\\nc\\nc++\\ncobal\\npascal\")"
   ]
  },
  {
   "cell_type": "code",
   "execution_count": 13,
   "id": "55dbac18",
   "metadata": {},
   "outputs": [
    {
     "name": "stdout",
     "output_type": "stream",
     "text": [
      "fav_prog_language:\n",
      "\tPython\n",
      "\tjava\n",
      "\tc\n",
      "\tc++\n",
      "\tcobal\n",
      "\tpascal\n"
     ]
    }
   ],
   "source": [
    "print(\"fav_prog_language:\\n\\tPython\\n\\tjava\\n\\tc\\n\\tc++\\n\\tcobal\\n\\tpascal\")"
   ]
  },
  {
   "cell_type": "code",
   "execution_count": null,
   "id": "72fb1415",
   "metadata": {},
   "outputs": [],
   "source": [
    "here \\t---> tab delimeter."
   ]
  },
  {
   "cell_type": "code",
   "execution_count": null,
   "id": "1f93b39d",
   "metadata": {},
   "outputs": [],
   "source": []
  },
  {
   "cell_type": "code",
   "execution_count": null,
   "id": "093a041f",
   "metadata": {},
   "outputs": [],
   "source": [
    "Removing whitespaces from the strings:"
   ]
  },
  {
   "cell_type": "code",
   "execution_count": 14,
   "id": "f6e745a5",
   "metadata": {},
   "outputs": [
    {
     "name": "stdout",
     "output_type": "stream",
     "text": [
      "python\n"
     ]
    }
   ],
   "source": [
    "language = 'python'\n",
    "\n",
    "print(language)"
   ]
  },
  {
   "cell_type": "code",
   "execution_count": 15,
   "id": "d440df38",
   "metadata": {},
   "outputs": [
    {
     "name": "stdout",
     "output_type": "stream",
     "text": [
      "   c\n"
     ]
    }
   ],
   "source": [
    "language1 = '   c'\n",
    "\n",
    "print(language1)"
   ]
  },
  {
   "cell_type": "code",
   "execution_count": 16,
   "id": "6670333e",
   "metadata": {},
   "outputs": [
    {
     "name": "stdout",
     "output_type": "stream",
     "text": [
      "java   \n"
     ]
    }
   ],
   "source": [
    "language2 = 'java   '\n",
    "\n",
    "print(language2)"
   ]
  },
  {
   "cell_type": "code",
   "execution_count": null,
   "id": "6c42174e",
   "metadata": {},
   "outputs": [],
   "source": []
  },
  {
   "cell_type": "code",
   "execution_count": 17,
   "id": "61d7bc3c",
   "metadata": {},
   "outputs": [
    {
     "data": {
      "text/plain": [
       "'c'"
      ]
     },
     "execution_count": 17,
     "metadata": {},
     "output_type": "execute_result"
    }
   ],
   "source": [
    "language1.lstrip()    #elimination of whitespaces from left side "
   ]
  },
  {
   "cell_type": "code",
   "execution_count": 18,
   "id": "4e5ad864",
   "metadata": {},
   "outputs": [
    {
     "data": {
      "text/plain": [
       "'java'"
      ]
     },
     "execution_count": 18,
     "metadata": {},
     "output_type": "execute_result"
    }
   ],
   "source": [
    "language2.rstrip()    #elimination of whitespaces from right side"
   ]
  },
  {
   "cell_type": "code",
   "execution_count": null,
   "id": "038282af",
   "metadata": {},
   "outputs": [],
   "source": []
  },
  {
   "cell_type": "code",
   "execution_count": 19,
   "id": "d3a89c0e",
   "metadata": {},
   "outputs": [
    {
     "name": "stdout",
     "output_type": "stream",
     "text": [
      "  c++  \n"
     ]
    }
   ],
   "source": [
    "language3 = '  c++  '\n",
    "\n",
    "print(language3)"
   ]
  },
  {
   "cell_type": "code",
   "execution_count": 20,
   "id": "11c3ed54",
   "metadata": {},
   "outputs": [
    {
     "data": {
      "text/plain": [
       "'c++'"
      ]
     },
     "execution_count": 20,
     "metadata": {},
     "output_type": "execute_result"
    }
   ],
   "source": [
    "language3.strip      #elimination of whitespaces from both side"
   ]
  },
  {
   "cell_type": "code",
   "execution_count": null,
   "id": "6662a382",
   "metadata": {},
   "outputs": [],
   "source": []
  }
 ],
 "metadata": {
  "kernelspec": {
   "display_name": "Python 3",
   "language": "python",
   "name": "python3"
  },
  "language_info": {
   "codemirror_mode": {
    "name": "ipython",
    "version": 3
   },
   "file_extension": ".py",
   "mimetype": "text/x-python",
   "name": "python",
   "nbconvert_exporter": "python",
   "pygments_lexer": "ipython3",
   "version": "3.8.8"
  }
 },
 "nbformat": 4,
 "nbformat_minor": 5
}

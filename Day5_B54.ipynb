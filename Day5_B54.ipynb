{
 "cells": [
  {
   "cell_type": "code",
   "execution_count": null,
   "id": "f7fb2ebd",
   "metadata": {},
   "outputs": [],
   "source": [
    "Organization of list :"
   ]
  },
  {
   "cell_type": "code",
   "execution_count": null,
   "id": "a0f6bd00",
   "metadata": {},
   "outputs": [],
   "source": []
  },
  {
   "cell_type": "code",
   "execution_count": 1,
   "id": "e21f236b",
   "metadata": {},
   "outputs": [],
   "source": [
    "cars = ['swift','toyota','audi','benz','bmw','claz','ferrari']"
   ]
  },
  {
   "cell_type": "code",
   "execution_count": 2,
   "id": "3fb618b0",
   "metadata": {},
   "outputs": [
    {
     "name": "stdout",
     "output_type": "stream",
     "text": [
      "['swift', 'toyota', 'audi', 'benz', 'bmw', 'claz', 'ferrari']\n"
     ]
    }
   ],
   "source": [
    "print(cars)"
   ]
  },
  {
   "cell_type": "code",
   "execution_count": null,
   "id": "90073a31",
   "metadata": {},
   "outputs": [],
   "source": []
  },
  {
   "cell_type": "code",
   "execution_count": null,
   "id": "1437a481",
   "metadata": {},
   "outputs": [],
   "source": [
    "#req: want to organise the list in A-Z alphabetic order."
   ]
  },
  {
   "cell_type": "code",
   "execution_count": null,
   "id": "8aafff25",
   "metadata": {},
   "outputs": [],
   "source": []
  },
  {
   "cell_type": "code",
   "execution_count": 3,
   "id": "ab887cb9",
   "metadata": {},
   "outputs": [
    {
     "data": {
      "text/plain": [
       "['audi', 'benz', 'bmw', 'claz', 'ferrari', 'swift', 'toyota']"
      ]
     },
     "execution_count": 3,
     "metadata": {},
     "output_type": "execute_result"
    }
   ],
   "source": [
    "sorted(cars)                 ---> temparory approach, where we can get back original list "
   ]
  },
  {
   "cell_type": "code",
   "execution_count": 4,
   "id": "68f0b071",
   "metadata": {},
   "outputs": [
    {
     "name": "stdout",
     "output_type": "stream",
     "text": [
      "['swift', 'toyota', 'audi', 'benz', 'bmw', 'claz', 'ferrari']\n"
     ]
    }
   ],
   "source": [
    "print(cars)"
   ]
  },
  {
   "cell_type": "code",
   "execution_count": null,
   "id": "3532f64e",
   "metadata": {},
   "outputs": [],
   "source": []
  },
  {
   "cell_type": "code",
   "execution_count": 5,
   "id": "a6e7a4aa",
   "metadata": {},
   "outputs": [],
   "source": [
    "cars.sort()                 ---> permanent approach, where we can not get the original list"
   ]
  },
  {
   "cell_type": "code",
   "execution_count": 6,
   "id": "e96fdb48",
   "metadata": {},
   "outputs": [
    {
     "name": "stdout",
     "output_type": "stream",
     "text": [
      "['audi', 'benz', 'bmw', 'claz', 'ferrari', 'swift', 'toyota']\n"
     ]
    }
   ],
   "source": [
    "print(cars)"
   ]
  },
  {
   "cell_type": "code",
   "execution_count": null,
   "id": "5266e916",
   "metadata": {},
   "outputs": [],
   "source": []
  },
  {
   "cell_type": "code",
   "execution_count": null,
   "id": "05debbcf",
   "metadata": {},
   "outputs": [],
   "source": [
    "#req: want to organise the list in reverse order i.e, Z-A alphabetical order."
   ]
  },
  {
   "cell_type": "code",
   "execution_count": 7,
   "id": "041ad8eb",
   "metadata": {},
   "outputs": [],
   "source": [
    "cars.reverse()"
   ]
  },
  {
   "cell_type": "code",
   "execution_count": 8,
   "id": "93fcffac",
   "metadata": {},
   "outputs": [
    {
     "name": "stdout",
     "output_type": "stream",
     "text": [
      "['toyota', 'swift', 'ferrari', 'claz', 'bmw', 'benz', 'audi']\n"
     ]
    }
   ],
   "source": [
    "print(cars)"
   ]
  },
  {
   "cell_type": "code",
   "execution_count": null,
   "id": "7890df75",
   "metadata": {},
   "outputs": [],
   "source": []
  },
  {
   "cell_type": "code",
   "execution_count": null,
   "id": "0a8b536e",
   "metadata": {},
   "outputs": [],
   "source": [
    "#req: how to count the number of elements in the list?"
   ]
  },
  {
   "cell_type": "code",
   "execution_count": 9,
   "id": "d230c347",
   "metadata": {},
   "outputs": [
    {
     "data": {
      "text/plain": [
       "7"
      ]
     },
     "execution_count": 9,
     "metadata": {},
     "output_type": "execute_result"
    }
   ],
   "source": [
    "len(cars)"
   ]
  },
  {
   "cell_type": "code",
   "execution_count": null,
   "id": "7a0de996",
   "metadata": {},
   "outputs": [],
   "source": []
  }
 ],
 "metadata": {
  "kernelspec": {
   "display_name": "Python 3",
   "language": "python",
   "name": "python3"
  },
  "language_info": {
   "codemirror_mode": {
    "name": "ipython",
    "version": 3
   },
   "file_extension": ".py",
   "mimetype": "text/x-python",
   "name": "python",
   "nbconvert_exporter": "python",
   "pygments_lexer": "ipython3",
   "version": "3.8.8"
  }
 },
 "nbformat": 4,
 "nbformat_minor": 5
}
